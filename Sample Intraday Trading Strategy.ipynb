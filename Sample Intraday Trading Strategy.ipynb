{
 "cells": [
  {
   "cell_type": "markdown",
   "metadata": {},
   "source": [
    "# Intraday Mean-Reverting Pairs Trading Strategy\n",
    "\n",
    "### In this strategy, we will focus on a pairs trading strategy between two ETFs, SPY, and IWM, which represent the S&P 500 and Russell 2000 indices.\n",
    "\n",
    "We will calculate a hedge ratio (long #: short #) between the two ETFs in order to generate a spread that will (hopefully) revert back to the mean. We will be utilizing a z-score in order to provide a benchmark to compare the performance of the ETFs on, with long signals being generated when the z-score drops between a determined threshold, and short signals generated when z-score raises above a determined threshold. \n",
    "\n",
    "### Claim: Since the SPY and IWM are based on similar indices that take into account large-cap and small-cap domestic stocks, we believe that the long-term patterns of both ETFs are cointegrated. As a result, over a long period of time, both should revert to the mean if any changes occur. \n",
    "\n",
    "We will test the claim of them being cointegrated, as well as the viability of the strategy, including the strategy spread and cointegration factor. We will not be taking into account any transaction costs or biases in this initial stage, since we want to simplify the calculations and test if this strategy is even remotely viable.\n",
    "\n",
    "Data: 1-minute bars of SPY and IWM, from August 2010 to August 2017.\n",
    "Spread: We calculate via a rolling linear regression, which a lookback window of k bars.\n",
    "Z-Score: Calculated normally, subtracting by the sample mean of the spread and dividing by the standard deviation (not taking into account lookahead bias).\n",
    "Trades: Signals will be generated with an entry threshold z-score = 2 | -2, and exit threshold z = 1 | -1"
   ]
  },
  {
   "cell_type": "code",
   "execution_count": 4,
   "metadata": {},
   "outputs": [],
   "source": [
    "import numpy as np\n",
    "import pandas as pd\n",
    "import os, os.path\n",
    "import matplotlib.pyplot as plt\n",
    "import pandas_datareader as pdr\n",
    "import fix_yahoo_finance as yf\n",
    "import datetime\n",
    "\n",
    "yf.pdr_override()\n",
    "%matplotlib inline"
   ]
  },
  {
   "cell_type": "markdown",
   "metadata": {},
   "source": [
    "First, we are gonna start off with create key abstract classes that we will utilize as a template for backtesting our strategy:"
   ]
  },
  {
   "cell_type": "code",
   "execution_count": 7,
   "metadata": {
    "collapsed": true
   },
   "outputs": [],
   "source": [
    "from abc import ABCMeta, abstractmethod\n",
    "\n",
    "#We declare abstract classes as a template for strategies, inheriting from an Object superclass.\n",
    "\n",
    "class DataHandler(object):\n",
    "    '''Create our data handler for the upcoming strategy. The main goal of this handler is to extract data\n",
    "    from Yahoo Finance, parse it for data that is relevant to the strategy, and store it in a Pandas\n",
    "    DataFrame.'''\n",
    "    \n",
    "    __metaclass__ = ABCMeta\n",
    "    \n",
    "    @abstractmethod\n",
    "    def create_data_handler(self):\n",
    "        #Implementation requires to return DataFrame containing data relevant to the strategy.\n",
    "        raise NotImplementedError(\"Implement create_data_handler()\")\n",
    "\n",
    "\n",
    "class Strategy(object):\n",
    "    \"\"\"Strategy will be utilized as a template for all future inherited trading strategies.\n",
    "    \n",
    "    The goal of the Strategy is to output a list of signals, via a Pandas DataFrame, which is then sent to the portfolio.\"\"\"\n",
    "    \n",
    "    __metaclass__ = ABCMeta\n",
    "    \n",
    "    @abstractmethod\n",
    "    def generate_signals(self):\n",
    "        #Implementation requires to return DataFrame of symbols containing a set of signals, with tertiary values.\n",
    "        raise NotImplementedError(\"Implement generate_signals()\")\n",
    "\n",
    "        \n",
    "class Portfolio(object):\n",
    "    '''Portfolio is utilized to generate buy/hold/sell positions based on the signals generated from\n",
    "    our Strategy. Then, we will utilize the portfolio to generate an equity curve, complete with total value\n",
    "    over the duration of the backtesting period, returns, and the cash/equity holdings at any particular time.'''\n",
    "    \n",
    "    __metaclass__ = ABCMeta\n",
    "    \n",
    "    @abstractmethod\n",
    "    def generate_positions(self):\n",
    "        '''Should be used to determine how portfolio positions are allocated, based on signals and current cash.'''\n",
    "        raise NotImplementedError(\"Implement generate_positions()\")\n",
    "    \n",
    "    @abstractmethod\n",
    "    def backtest_portfolio(self):\n",
    "        '''Gives logic to generate trading orders and portfolio equity curve (growth of equity over time)\n",
    "        and returns.'''\n",
    "        raise NotImplementedError(\"Implement backtest_portfolfio()\")"
   ]
  },
  {
   "cell_type": "code",
   "execution_count": 6,
   "metadata": {
    "collapsed": true
   },
   "outputs": [],
   "source": [
    "def create_data_handler(symbols):\n",
    "    '''Create pandas DF with Adjusted Closing prices of a pair of symbols, for us to utilize.'''\n",
    "    \n",
    "    #Pull data remotely from Yahoo Finance to parse.\n",
    "    first_df = pdr.get_data_yahoo(symbols[0], start=datetime.datetime(2010, 8, 1), end=datetime.datetime(2017,8,1))\n",
    "    second_df = pdr.get_data_yahoo(symbols[1], start=datetime.datetime(2010,8,1), end=datetime.datetime(2017,8,1))\n",
    "    \n",
    "    #Create new DF with only Adj Close values from data.\n",
    "    pairs = pd.DataFrame(index=first_df.index)\n",
    "    pairs['%s_adj_close' % symbols[0].lower()] = first_df['Adj Close']\n",
    "    pairs['%s_adj_close' % symbols[1].lower()] = second_df['Adj Close']\n",
    "    pairs = pairs.dropna()\n",
    "    \n",
    "    return pairs"
   ]
  },
  {
   "cell_type": "code",
   "execution_count": null,
   "metadata": {
    "collapsed": true
   },
   "outputs": [],
   "source": []
  }
 ],
 "metadata": {
  "kernelspec": {
   "display_name": "Python 3",
   "language": "python",
   "name": "python3"
  },
  "language_info": {
   "codemirror_mode": {
    "name": "ipython",
    "version": 3
   },
   "file_extension": ".py",
   "mimetype": "text/x-python",
   "name": "python",
   "nbconvert_exporter": "python",
   "pygments_lexer": "ipython3",
   "version": "3.6.1"
  }
 },
 "nbformat": 4,
 "nbformat_minor": 2
}

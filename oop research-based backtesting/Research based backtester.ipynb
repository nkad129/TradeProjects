{
 "cells": [
  {
   "cell_type": "markdown",
   "metadata": {},
   "source": [
    "# OOP Research-Based Backtester\n",
    "\n",
    "## Description\n",
    "This is a simple backtester implementing the essential components: a data handler, a strategy implementer, a portfolio, and a performance assessment. Execution handler is not implemented here, as we are just testing out how the backtester will work. This will be implemented utilizing Python, NumPy, and Pandas.\n",
    "\n",
    "Source: https://www.quantstart.com/articles/Research-Backtesting-Environments-in-Python-with-pandas\n",
    "\n",
    "## Time-Series based Backtester"
   ]
  },
  {
   "cell_type": "code",
   "execution_count": 2,
   "metadata": {},
   "outputs": [],
   "source": [
    "import numpy as np\n",
    "import pandas as pd\n",
    "import pandas_datareader as pdr\n",
    "import fix_yahoo_finance as yf\n",
    "import matplotlib.pyplot as plt\n",
    "import datetime\n",
    "\n",
    "#Overrides the new Yahoo API so we can still pull remotely from it.\n",
    "yf.pdr_override()\n",
    "%matplotlib inline"
   ]
  },
  {
   "cell_type": "markdown",
   "metadata": {},
   "source": [
    "We will start by creating a strategy abstract base class."
   ]
  },
  {
   "cell_type": "code",
   "execution_count": 4,
   "metadata": {},
   "outputs": [],
   "source": [
    "from abc import ABCMeta, abstractmethod"
   ]
  },
  {
   "cell_type": "code",
   "execution_count": 5,
   "metadata": {
    "collapsed": true
   },
   "outputs": [],
   "source": [
    "#We declare a Strategy class, which will be abstract, and inheriting from the Object superclass. \n",
    "class Strategy(object):\n",
    "    \"\"\"Strategy will be utilized as a template for all future inherited trading strategies.\n",
    "    \n",
    "    The goal of the Strategy is to output a list of signals, via a Pandas DataFrame, which is then sent to the portfolio.\"\"\"\n",
    "    \n",
    "    __metaclass__ = ABCMeta\n",
    "    \n",
    "    @abstractmethod\n",
    "    def generate_signals(self):\n",
    "        #Implementation requires to return DataFrame of symbols containing a set of signals, with tertiary values.\n",
    "        raise NotImplementedError(\"Implement generate_signals()\")"
   ]
  },
  {
   "cell_type": "markdown",
   "metadata": {},
   "source": [
    "We will continue towards the Portfolio class. It will be in charge of determining risk, transaction costs, execution handling, and establishing an equity curve."
   ]
  },
  {
   "cell_type": "code",
   "execution_count": 7,
   "metadata": {
    "collapsed": true
   },
   "outputs": [],
   "source": [
    "class Portfolio(object):\n",
    "    __metaclass__ = ABCMeta\n",
    "    \n",
    "    @abstractmethod\n",
    "    def generate_positions(self):\n",
    "        '''Should be used to determine how portfolio positions are allocated, based on signals and current cash.'''\n",
    "        raise NotImplementedError(\"Implement generate_positions()\")\n",
    "    \n",
    "    @abstractmethod\n",
    "    def backtest_portfolio(self):\n",
    "        '''Gives logic to generate trading orders and portfolio equity curve (growth of equity over time)\n",
    "        and returns.'''\n",
    "        raise NotImplementedError(\"Implement backtest_portfolfio()\")"
   ]
  },
  {
   "cell_type": "markdown",
   "metadata": {},
   "source": [
    "## Testing the OOP Backtester\n",
    "\n",
    "We will implement a Strategy subclass in order to test signal generation."
   ]
  },
  {
   "cell_type": "code",
   "execution_count": 10,
   "metadata": {
    "collapsed": true
   },
   "outputs": [],
   "source": [
    "class RandomForecastingStrategy(Strategy):\n",
    "    '''Derived from Strategy. Will produce a set of signals randomly.'''\n",
    "    \n",
    "    '''Initialize object with a single symbol and Pandas DF of bars'''\n",
    "    def __init__(self, symbol, bars):\n",
    "        self.symbol = symbol\n",
    "        self.bars = bars\n",
    "        \n",
    "    '''Create Pandas DF of random signals'''\n",
    "    def generate_signals(self):\n",
    "        signals = pd.DataFrame(index=self.bars.index)\n",
    "        signals['signal'] = np.sign(np.random.rand(len(signals)))\n",
    "        \n",
    "        # We set first five elements to 0 to minimize upstream NaN errors in forecaster.\n",
    "        signals['signal'][0:5] = 0.0\n",
    "        return signals"
   ]
  },
  {
   "cell_type": "markdown",
   "metadata": {},
   "source": [
    "Now we will implement a basic portfolio class that focuses on going long/short based on open price. It will not take into account transaction costs, specify amount of stock to purchase, and no leverage to greatly simplify it."
   ]
  },
  {
   "cell_type": "code",
   "execution_count": 74,
   "metadata": {
    "collapsed": true
   },
   "outputs": [],
   "source": [
    "class MarketOnOpenPortfolio(Portfolio):\n",
    "    '''Purchase 100 of particular stock depending on signals giving, based on market open price.\n",
    "    \n",
    "    0 Transaction costs, cash will be immediately borrowed for shorting (no leverage/interest).'''\n",
    "    \n",
    "    #Initialize object, with single stock symbol, bars (remotely pulled data on symbol), signals generated\n",
    "    #from strategy, and intial capital (defaulted to $100k if not specified)\n",
    "    def __init__(self, symbol, bars, signals, initial_capital=100000.0):\n",
    "        self.symbol = symbol\n",
    "        self.bars = bars\n",
    "        self.signals = signals\n",
    "        self.initial_capital = float(initial_capital)\n",
    "        self.positions = self.generate_positions()\n",
    "        \n",
    "    def generate_positions(self):\n",
    "        '''Generate positions DF that long/shorts 100 of the symbol stock depending on signal value'''\n",
    "        positions = pd.DataFrame(index=signals.index).fillna(0.0)\n",
    "        positions[self.symbol] = 100*signals['signal']\n",
    "        return positions\n",
    "    \n",
    "    def backtest_portfolio(self):\n",
    "        '''Create portfolio from positions dataframe. Calculate total cash and holding (market price of position), and \n",
    "        generate both an equity curve and a set of returns'''\n",
    "        \n",
    "        #Construct Portfolio using position DF's index, and generate 'Trading Orders' with pos_diff.\n",
    "        portfolio = pd.DataFrame(index=self.bars.index)\n",
    "        pos_diff = self.positions.diff()\n",
    "        \n",
    "        #Create holdings and cash columns via calculations in trades\n",
    "        #portfolio['holdings'] = (self.positions*self.bars['Open']).sum(axis=1)\n",
    "        #portfolio['cash'] = self.initial_capital - (self.positions*self.bars['Open'].cumsum())\n",
    "        portfolio['holdings'] = self.positions.mul(self.bars['Open'], axis='index')\n",
    "        portfolio['cash'] = self.initial_capital - portfolio['holdings'].cumsum()\n",
    "        \n",
    "        #Figure out total and bar-based returns based on 'cash' and holding' figures of portfolio\n",
    "        #portfolio['total'] = portfolio['cash'] + portfolio['holdings']\n",
    "        #portfolio['returns'] = portfolio['total'].pct_change()\n",
    "        portfolio['total'] = portfolio['cash'] + self.positions[self.symbol].cumsum() * self.bars['Open']\n",
    "        portfolio['returns'] = portfolio['total'].pct_change()\n",
    "        return portfolio"
   ]
  },
  {
   "cell_type": "markdown",
   "metadata": {},
   "source": [
    "Now, we will implement and test these classes, with 'SPY' (ETF that tracks index of S&P 500), and pull the data of Yahoo Finance"
   ]
  },
  {
   "cell_type": "code",
   "execution_count": 67,
   "metadata": {
    "collapsed": true
   },
   "outputs": [],
   "source": [
    "symbol = 'SPY'\n",
    "bars = pdr.get_data_yahoo(symbol, start=datetime.datetime(2010, 8, 16), end=datetime.datetime(2017,8,16))"
   ]
  },
  {
   "cell_type": "code",
   "execution_count": 68,
   "metadata": {},
   "outputs": [
    {
     "data": {
      "text/html": [
       "<div>\n",
       "<style>\n",
       "    .dataframe thead tr:only-child th {\n",
       "        text-align: right;\n",
       "    }\n",
       "\n",
       "    .dataframe thead th {\n",
       "        text-align: left;\n",
       "    }\n",
       "\n",
       "    .dataframe tbody tr th {\n",
       "        vertical-align: top;\n",
       "    }\n",
       "</style>\n",
       "<table border=\"1\" class=\"dataframe\">\n",
       "  <thead>\n",
       "    <tr style=\"text-align: right;\">\n",
       "      <th></th>\n",
       "      <th>Open</th>\n",
       "      <th>High</th>\n",
       "      <th>Low</th>\n",
       "      <th>Close</th>\n",
       "      <th>Adj Close</th>\n",
       "      <th>Volume</th>\n",
       "    </tr>\n",
       "    <tr>\n",
       "      <th>Date</th>\n",
       "      <th></th>\n",
       "      <th></th>\n",
       "      <th></th>\n",
       "      <th></th>\n",
       "      <th></th>\n",
       "      <th></th>\n",
       "    </tr>\n",
       "  </thead>\n",
       "  <tbody>\n",
       "    <tr>\n",
       "      <th>2010-08-16</th>\n",
       "      <td>107.570000</td>\n",
       "      <td>108.610001</td>\n",
       "      <td>107.180000</td>\n",
       "      <td>108.260002</td>\n",
       "      <td>93.787773</td>\n",
       "      <td>147895300</td>\n",
       "    </tr>\n",
       "    <tr>\n",
       "      <th>2010-08-17</th>\n",
       "      <td>109.190002</td>\n",
       "      <td>110.389999</td>\n",
       "      <td>108.879997</td>\n",
       "      <td>109.589996</td>\n",
       "      <td>94.939964</td>\n",
       "      <td>172270300</td>\n",
       "    </tr>\n",
       "    <tr>\n",
       "      <th>2010-08-18</th>\n",
       "      <td>109.540001</td>\n",
       "      <td>110.379997</td>\n",
       "      <td>108.910004</td>\n",
       "      <td>109.790001</td>\n",
       "      <td>95.113228</td>\n",
       "      <td>182922100</td>\n",
       "    </tr>\n",
       "    <tr>\n",
       "      <th>2010-08-19</th>\n",
       "      <td>109.220001</td>\n",
       "      <td>109.489998</td>\n",
       "      <td>107.430000</td>\n",
       "      <td>107.879997</td>\n",
       "      <td>93.458565</td>\n",
       "      <td>265847600</td>\n",
       "    </tr>\n",
       "    <tr>\n",
       "      <th>2010-08-20</th>\n",
       "      <td>107.559998</td>\n",
       "      <td>107.940002</td>\n",
       "      <td>106.750000</td>\n",
       "      <td>107.529999</td>\n",
       "      <td>93.155373</td>\n",
       "      <td>209714200</td>\n",
       "    </tr>\n",
       "  </tbody>\n",
       "</table>\n",
       "</div>"
      ],
      "text/plain": [
       "                  Open        High         Low       Close  Adj Close  \\\n",
       "Date                                                                    \n",
       "2010-08-16  107.570000  108.610001  107.180000  108.260002  93.787773   \n",
       "2010-08-17  109.190002  110.389999  108.879997  109.589996  94.939964   \n",
       "2010-08-18  109.540001  110.379997  108.910004  109.790001  95.113228   \n",
       "2010-08-19  109.220001  109.489998  107.430000  107.879997  93.458565   \n",
       "2010-08-20  107.559998  107.940002  106.750000  107.529999  93.155373   \n",
       "\n",
       "               Volume  \n",
       "Date                   \n",
       "2010-08-16  147895300  \n",
       "2010-08-17  172270300  \n",
       "2010-08-18  182922100  \n",
       "2010-08-19  265847600  \n",
       "2010-08-20  209714200  "
      ]
     },
     "execution_count": 68,
     "metadata": {},
     "output_type": "execute_result"
    }
   ],
   "source": [
    "bars.head()"
   ]
  },
  {
   "cell_type": "code",
   "execution_count": 69,
   "metadata": {
    "collapsed": true
   },
   "outputs": [],
   "source": [
    "strategy = RandomForecastingStrategy(symbol, bars)\n",
    "signals = strategy.generate_signals()"
   ]
  },
  {
   "cell_type": "code",
   "execution_count": 70,
   "metadata": {},
   "outputs": [
    {
     "data": {
      "text/html": [
       "<div>\n",
       "<style>\n",
       "    .dataframe thead tr:only-child th {\n",
       "        text-align: right;\n",
       "    }\n",
       "\n",
       "    .dataframe thead th {\n",
       "        text-align: left;\n",
       "    }\n",
       "\n",
       "    .dataframe tbody tr th {\n",
       "        vertical-align: top;\n",
       "    }\n",
       "</style>\n",
       "<table border=\"1\" class=\"dataframe\">\n",
       "  <thead>\n",
       "    <tr style=\"text-align: right;\">\n",
       "      <th></th>\n",
       "      <th>signal</th>\n",
       "    </tr>\n",
       "    <tr>\n",
       "      <th>Date</th>\n",
       "      <th></th>\n",
       "    </tr>\n",
       "  </thead>\n",
       "  <tbody>\n",
       "    <tr>\n",
       "      <th>2010-08-16</th>\n",
       "      <td>0.0</td>\n",
       "    </tr>\n",
       "    <tr>\n",
       "      <th>2010-08-17</th>\n",
       "      <td>0.0</td>\n",
       "    </tr>\n",
       "    <tr>\n",
       "      <th>2010-08-18</th>\n",
       "      <td>0.0</td>\n",
       "    </tr>\n",
       "    <tr>\n",
       "      <th>2010-08-19</th>\n",
       "      <td>0.0</td>\n",
       "    </tr>\n",
       "    <tr>\n",
       "      <th>2010-08-20</th>\n",
       "      <td>0.0</td>\n",
       "    </tr>\n",
       "    <tr>\n",
       "      <th>2010-08-23</th>\n",
       "      <td>1.0</td>\n",
       "    </tr>\n",
       "    <tr>\n",
       "      <th>2010-08-24</th>\n",
       "      <td>1.0</td>\n",
       "    </tr>\n",
       "    <tr>\n",
       "      <th>2010-08-25</th>\n",
       "      <td>1.0</td>\n",
       "    </tr>\n",
       "    <tr>\n",
       "      <th>2010-08-26</th>\n",
       "      <td>1.0</td>\n",
       "    </tr>\n",
       "    <tr>\n",
       "      <th>2010-08-27</th>\n",
       "      <td>1.0</td>\n",
       "    </tr>\n",
       "  </tbody>\n",
       "</table>\n",
       "</div>"
      ],
      "text/plain": [
       "            signal\n",
       "Date              \n",
       "2010-08-16     0.0\n",
       "2010-08-17     0.0\n",
       "2010-08-18     0.0\n",
       "2010-08-19     0.0\n",
       "2010-08-20     0.0\n",
       "2010-08-23     1.0\n",
       "2010-08-24     1.0\n",
       "2010-08-25     1.0\n",
       "2010-08-26     1.0\n",
       "2010-08-27     1.0"
      ]
     },
     "execution_count": 70,
     "metadata": {},
     "output_type": "execute_result"
    }
   ],
   "source": [
    "signals.head(10)"
   ]
  },
  {
   "cell_type": "code",
   "execution_count": 75,
   "metadata": {
    "collapsed": true
   },
   "outputs": [],
   "source": [
    "portfolio_object = MarketOnOpenPortfolio(symbol, bars, signals)"
   ]
  },
  {
   "cell_type": "code",
   "execution_count": 76,
   "metadata": {},
   "outputs": [],
   "source": [
    "portfolio = portfolio_object.backtest_portfolio()"
   ]
  },
  {
   "cell_type": "code",
   "execution_count": 77,
   "metadata": {},
   "outputs": [
    {
     "data": {
      "text/html": [
       "<div>\n",
       "<style>\n",
       "    .dataframe thead tr:only-child th {\n",
       "        text-align: right;\n",
       "    }\n",
       "\n",
       "    .dataframe thead th {\n",
       "        text-align: left;\n",
       "    }\n",
       "\n",
       "    .dataframe tbody tr th {\n",
       "        vertical-align: top;\n",
       "    }\n",
       "</style>\n",
       "<table border=\"1\" class=\"dataframe\">\n",
       "  <thead>\n",
       "    <tr style=\"text-align: right;\">\n",
       "      <th></th>\n",
       "      <th>holdings</th>\n",
       "      <th>cash</th>\n",
       "      <th>total</th>\n",
       "      <th>returns</th>\n",
       "    </tr>\n",
       "    <tr>\n",
       "      <th>Date</th>\n",
       "      <th></th>\n",
       "      <th></th>\n",
       "      <th></th>\n",
       "      <th></th>\n",
       "    </tr>\n",
       "  </thead>\n",
       "  <tbody>\n",
       "    <tr>\n",
       "      <th>2010-08-16</th>\n",
       "      <td>0.0000</td>\n",
       "      <td>100000.0000</td>\n",
       "      <td>100000.0000</td>\n",
       "      <td>NaN</td>\n",
       "    </tr>\n",
       "    <tr>\n",
       "      <th>2010-08-17</th>\n",
       "      <td>0.0000</td>\n",
       "      <td>100000.0000</td>\n",
       "      <td>100000.0000</td>\n",
       "      <td>0.000000</td>\n",
       "    </tr>\n",
       "    <tr>\n",
       "      <th>2010-08-18</th>\n",
       "      <td>0.0000</td>\n",
       "      <td>100000.0000</td>\n",
       "      <td>100000.0000</td>\n",
       "      <td>0.000000</td>\n",
       "    </tr>\n",
       "    <tr>\n",
       "      <th>2010-08-19</th>\n",
       "      <td>0.0000</td>\n",
       "      <td>100000.0000</td>\n",
       "      <td>100000.0000</td>\n",
       "      <td>0.000000</td>\n",
       "    </tr>\n",
       "    <tr>\n",
       "      <th>2010-08-20</th>\n",
       "      <td>0.0000</td>\n",
       "      <td>100000.0000</td>\n",
       "      <td>100000.0000</td>\n",
       "      <td>0.000000</td>\n",
       "    </tr>\n",
       "    <tr>\n",
       "      <th>2010-08-23</th>\n",
       "      <td>10804.0001</td>\n",
       "      <td>89195.9999</td>\n",
       "      <td>100000.0000</td>\n",
       "      <td>0.000000</td>\n",
       "    </tr>\n",
       "    <tr>\n",
       "      <th>2010-08-24</th>\n",
       "      <td>10594.9997</td>\n",
       "      <td>78601.0002</td>\n",
       "      <td>99790.9996</td>\n",
       "      <td>-0.002090</td>\n",
       "    </tr>\n",
       "    <tr>\n",
       "      <th>2010-08-25</th>\n",
       "      <td>10494.9997</td>\n",
       "      <td>68106.0005</td>\n",
       "      <td>99590.9996</td>\n",
       "      <td>-0.002004</td>\n",
       "    </tr>\n",
       "    <tr>\n",
       "      <th>2010-08-26</th>\n",
       "      <td>10644.0002</td>\n",
       "      <td>57462.0003</td>\n",
       "      <td>100038.0011</td>\n",
       "      <td>0.004488</td>\n",
       "    </tr>\n",
       "    <tr>\n",
       "      <th>2010-08-27</th>\n",
       "      <td>10588.9999</td>\n",
       "      <td>46873.0004</td>\n",
       "      <td>99817.9999</td>\n",
       "      <td>-0.002199</td>\n",
       "    </tr>\n",
       "  </tbody>\n",
       "</table>\n",
       "</div>"
      ],
      "text/plain": [
       "              holdings         cash        total   returns\n",
       "Date                                                      \n",
       "2010-08-16      0.0000  100000.0000  100000.0000       NaN\n",
       "2010-08-17      0.0000  100000.0000  100000.0000  0.000000\n",
       "2010-08-18      0.0000  100000.0000  100000.0000  0.000000\n",
       "2010-08-19      0.0000  100000.0000  100000.0000  0.000000\n",
       "2010-08-20      0.0000  100000.0000  100000.0000  0.000000\n",
       "2010-08-23  10804.0001   89195.9999  100000.0000  0.000000\n",
       "2010-08-24  10594.9997   78601.0002   99790.9996 -0.002090\n",
       "2010-08-25  10494.9997   68106.0005   99590.9996 -0.002004\n",
       "2010-08-26  10644.0002   57462.0003  100038.0011  0.004488\n",
       "2010-08-27  10588.9999   46873.0004   99817.9999 -0.002199"
      ]
     },
     "execution_count": 77,
     "metadata": {},
     "output_type": "execute_result"
    }
   ],
   "source": [
    "portfolio.head(10)"
   ]
  },
  {
   "cell_type": "markdown",
   "metadata": {},
   "source": [
    "Now we will plot the equity curve"
   ]
  },
  {
   "cell_type": "code",
   "execution_count": 82,
   "metadata": {},
   "outputs": [
    {
     "data": {
      "text/plain": [
       "<matplotlib.text.Text at 0x25b9a4ec630>"
      ]
     },
     "execution_count": 82,
     "metadata": {},
     "output_type": "execute_result"
    },
    {
     "data": {
      "image/png": "[encoded data removed]",
      "text/plain": [
       "<matplotlib.figure.Figure at 0x25ba4a235f8>"
      ]
     },
     "metadata": {},
     "output_type": "display_data"
    }
   ],
   "source": [
    "fig = plt.figure()\n",
    "\n",
    "fig1 = fig.add_subplot(111, ylabel = 'Portfolio total')\n",
    "\n",
    "portfolio['total'].plot(ax=fig1, lw=2)\n",
    "\n",
    "plt.title('Random Forecasting Portfolio Equity Curve (SPY)')"
   ]
  },
  {
   "cell_type": "markdown",
   "metadata": {},
   "source": [
    "# Implementing a simple Moving Average Crossover Strategy\n",
    "\n",
    "Now, we will take the backbone OOP backtester we have made, and apply it to a Moving Average Crossover Strategy (Momentum-based) utilizing the AAPL security. Implementation: We calculate two separate simple moving averages, with a short and a long lookback period. When the shorter MA exceeds the longer MA, we take a long position; when longer MA exceeds shorter MA, we take a short position. \n",
    "\n",
    "Source: https://www.quantstart.com/articles/Backtesting-a-Moving-Average-Crossover-in-Python-with-pandas\n",
    "\n",
    "We will start with implementing the strategy."
   ]
  },
  {
   "cell_type": "code",
   "execution_count": 87,
   "metadata": {
    "collapsed": true
   },
   "outputs": [],
   "source": [
    "class MovingAverageCrossoverStrat(Strategy):\n",
    "    '''\n",
    "    object properties:\n",
    "    Stock Symbol\n",
    "    Data Bars (pulled remotely)\n",
    "    Short lookback window\n",
    "    Long lookback window\n",
    "    '''\n",
    "    def __init__(self, symbol, bars, short_lookback=100, long_lookback=400):\n",
    "        self.symbol = symbol\n",
    "        self.bars = bars\n",
    "        self.short_lookback = 100\n",
    "        self.long_lookback = 400\n",
    "    \n",
    "    #Generate signals Dataframe, {1,0,-1} equivalent to long/hold/sell positions.\n",
    "    def generate_signals(self):\n",
    "        signals = pd.DataFrame(index=self.bars.index)\n",
    "        signals['signal'] = 0.0\n",
    "    \n",
    "        #Calulate the long and short moving averages\n",
    "        signals['long_moving_avg'] = self.bars['Close'].rolling(self.long_lookback, min_periods=1).mean()\n",
    "        signals['short_moving_avg'] = self.bars['Close'].rolling(self.short_lookback, min_periods=1).mean()\n",
    "        \n",
    "        #Create the signals based on the long and short moving averages\n",
    "        signals['signal'][self.short_lookback:] = np.where(signals['short_moving_avg'][self.short_lookback:] > \n",
    "                                                            signals['long_moving_avg'][self.short_lookback:], 1.0, 0.0)\n",
    "        \n",
    "        #Generate the positions based on the signals, to know whether to buy, hold, or sell.\n",
    "        signals['position'] = signals['signal'].diff()\n",
    "        \n",
    "        return signals"
   ]
  },
  {
   "cell_type": "code",
   "execution_count": 115,
   "metadata": {
    "collapsed": true
   },
   "outputs": [],
   "source": [
    "class MarketOnClosePortfolio(Portfolio):\n",
    "    '''Create portfolio, equity curve, and returns based on strategy signals and positions we established earlier.\n",
    "    Focuses on a single stock only.\n",
    "    \n",
    "    Object properties:\n",
    "    Stock Symbol\n",
    "    Bars\n",
    "    Signals DF\n",
    "    Initial_capital'''\n",
    "    \n",
    "    def __init__(self, symbol, bars, signals, initial_capital=100000.0):\n",
    "        self.symbol = symbol\n",
    "        self.bars = bars\n",
    "        self.signals = signals\n",
    "        self.initial_capital = initial_capital\n",
    "        self.positions = self.generate_positions()\n",
    "    \n",
    "    #Generate the positions based on signals. Default is buying 100 shares.\n",
    "    def generate_positions(self):\n",
    "        positions = pd.DataFrame(index=self.bars.index).fillna(0.0)\n",
    "        positions = self.signals['signal']*100\n",
    "        return positions\n",
    "    \n",
    "    def backtest_portfolio(self):\n",
    "        #Construct Portfolio using position DF's index, and generate 'Trading Orders' with pos_diff.\n",
    "        portfolio = pd.DataFrame(index=self.bars.index)\n",
    "        pos_diff = self.positions.diff()\n",
    "        \n",
    "        #Create holdings and cash columns via calculations in trades\n",
    "        #portfolio['holdings'] = (self.positions*self.bars['Open']).sum(axis=1)\n",
    "        #portfolio['cash'] = self.initial_capital - (self.positions*self.bars['Open'].cumsum())\n",
    "        portfolio['holdings'] = self.positions.mul(self.bars['Close'], axis='index')\n",
    "        portfolio['cash'] = self.initial_capital - (pos_diff.multiply(self.bars['Close'], axis=0)).cumsum()  \n",
    "        \n",
    "        #Figure out total and bar-based returns based on 'cash' and holding' figures of portfolio\n",
    "        #portfolio['total'] = portfolio['cash'] + portfolio['holdings']\n",
    "        #portfolio['returns'] = portfolio['total'].pct_change()\n",
    "        portfolio['total'] = portfolio['cash'] + portfolio['holdings']\n",
    "        portfolio['returns'] = portfolio['total'].pct_change()\n",
    "        return portfolio"
   ]
  },
  {
   "cell_type": "code",
   "execution_count": 85,
   "metadata": {
    "collapsed": true
   },
   "outputs": [],
   "source": [
    "symbol = 'AAPL'\n",
    "bars = pdr.get_data_yahoo(symbol, datetime.datetime(2010,8,17), datetime.datetime(2017,8,18))"
   ]
  },
  {
   "cell_type": "code",
   "execution_count": 89,
   "metadata": {},
   "outputs": [
    {
     "data": {
      "text/html": [
       "<div>\n",
       "<style>\n",
       "    .dataframe thead tr:only-child th {\n",
       "        text-align: right;\n",
       "    }\n",
       "\n",
       "    .dataframe thead th {\n",
       "        text-align: left;\n",
       "    }\n",
       "\n",
       "    .dataframe tbody tr th {\n",
       "        vertical-align: top;\n",
       "    }\n",
       "</style>\n",
       "<table border=\"1\" class=\"dataframe\">\n",
       "  <thead>\n",
       "    <tr style=\"text-align: right;\">\n",
       "      <th></th>\n",
       "      <th>signal</th>\n",
       "      <th>long_moving_avg</th>\n",
       "      <th>short_moving_avg</th>\n",
       "      <th>position</th>\n",
       "    </tr>\n",
       "    <tr>\n",
       "      <th>Date</th>\n",
       "      <th></th>\n",
       "      <th></th>\n",
       "      <th></th>\n",
       "      <th></th>\n",
       "    </tr>\n",
       "  </thead>\n",
       "  <tbody>\n",
       "    <tr>\n",
       "      <th>2010-08-17</th>\n",
       "      <td>0.0</td>\n",
       "      <td>35.995716</td>\n",
       "      <td>35.995716</td>\n",
       "      <td>NaN</td>\n",
       "    </tr>\n",
       "    <tr>\n",
       "      <th>2010-08-18</th>\n",
       "      <td>0.0</td>\n",
       "      <td>36.074287</td>\n",
       "      <td>36.074287</td>\n",
       "      <td>0.0</td>\n",
       "    </tr>\n",
       "    <tr>\n",
       "      <th>2010-08-19</th>\n",
       "      <td>0.0</td>\n",
       "      <td>35.948573</td>\n",
       "      <td>35.948573</td>\n",
       "      <td>0.0</td>\n",
       "    </tr>\n",
       "    <tr>\n",
       "      <th>2010-08-20</th>\n",
       "      <td>0.0</td>\n",
       "      <td>35.877144</td>\n",
       "      <td>35.877144</td>\n",
       "      <td>0.0</td>\n",
       "    </tr>\n",
       "    <tr>\n",
       "      <th>2010-08-23</th>\n",
       "      <td>0.0</td>\n",
       "      <td>35.724572</td>\n",
       "      <td>35.724572</td>\n",
       "      <td>0.0</td>\n",
       "    </tr>\n",
       "    <tr>\n",
       "      <th>2010-08-24</th>\n",
       "      <td>0.0</td>\n",
       "      <td>35.483096</td>\n",
       "      <td>35.483096</td>\n",
       "      <td>0.0</td>\n",
       "    </tr>\n",
       "    <tr>\n",
       "      <th>2010-08-25</th>\n",
       "      <td>0.0</td>\n",
       "      <td>35.371021</td>\n",
       "      <td>35.371021</td>\n",
       "      <td>0.0</td>\n",
       "    </tr>\n",
       "    <tr>\n",
       "      <th>2010-08-26</th>\n",
       "      <td>0.0</td>\n",
       "      <td>35.240358</td>\n",
       "      <td>35.240358</td>\n",
       "      <td>0.0</td>\n",
       "    </tr>\n",
       "    <tr>\n",
       "      <th>2010-08-27</th>\n",
       "      <td>0.0</td>\n",
       "      <td>35.160000</td>\n",
       "      <td>35.160000</td>\n",
       "      <td>0.0</td>\n",
       "    </tr>\n",
       "    <tr>\n",
       "      <th>2010-08-30</th>\n",
       "      <td>0.0</td>\n",
       "      <td>35.108286</td>\n",
       "      <td>35.108286</td>\n",
       "      <td>0.0</td>\n",
       "    </tr>\n",
       "  </tbody>\n",
       "</table>\n",
       "</div>"
      ],
      "text/plain": [
       "            signal  long_moving_avg  short_moving_avg  position\n",
       "Date                                                           \n",
       "2010-08-17     0.0        35.995716         35.995716       NaN\n",
       "2010-08-18     0.0        36.074287         36.074287       0.0\n",
       "2010-08-19     0.0        35.948573         35.948573       0.0\n",
       "2010-08-20     0.0        35.877144         35.877144       0.0\n",
       "2010-08-23     0.0        35.724572         35.724572       0.0\n",
       "2010-08-24     0.0        35.483096         35.483096       0.0\n",
       "2010-08-25     0.0        35.371021         35.371021       0.0\n",
       "2010-08-26     0.0        35.240358         35.240358       0.0\n",
       "2010-08-27     0.0        35.160000         35.160000       0.0\n",
       "2010-08-30     0.0        35.108286         35.108286       0.0"
      ]
     },
     "execution_count": 89,
     "metadata": {},
     "output_type": "execute_result"
    }
   ],
   "source": [
    "strategy = MovingAverageCrossoverStrat(symbol, bars)\n",
    "signals = strategy.generate_signals()\n",
    "signals.head(10)"
   ]
  },
  {
   "cell_type": "markdown",
   "metadata": {},
   "source": [
    "Now that we have signals established along with bars of data on the AAPL security, we can plot how it will appear."
   ]
  },
  {
   "cell_type": "code",
   "execution_count": 104,
   "metadata": {},
   "outputs": [
    {
     "data": {
      "text/plain": [
       "[<matplotlib.lines.Line2D at 0x25b9ac8d668>]"
      ]
     },
     "execution_count": 104,
     "metadata": {},
     "output_type": "execute_result"
    },
    {
     "data": {
      "image/png": "[encoded data removed]",
      "text/plain": [
       "<matplotlib.figure.Figure at 0x25b9aba9a20>"
      ]
     },
     "metadata": {},
     "output_type": "display_data"
    }
   ],
   "source": [
    "fig = plt.figure(figsize=(10,8))\n",
    "\n",
    "fig1= fig.add_subplot(111, ylabel='moving averages')\n",
    "\n",
    "bars['Close'].plot(ax=fig1, lw=2)\n",
    "signals[['short_moving_avg','long_moving_avg']].plot(ax=fig1, lw=2)\n",
    "\n",
    "plt.title('AAPL moving averages')\n",
    "\n",
    "fig1.plot(signals.loc[signals.position == 1.0].index, signals.short_moving_avg[signals.position == 1.0], '^', markersize=10, color='m')\n",
    "fig1.plot(signals.loc[signals.position == -1.0].index, signals.short_moving_avg[signals.position == -1.0], 'v', markersize=10, color='k')"
   ]
  },
  {
   "cell_type": "code",
   "execution_count": 116,
   "metadata": {},
   "outputs": [],
   "source": [
    "portfolio = MarketOnClosePortfolio(symbol, bars, signals)\n",
    "analysis = portfolio.backtest_portfolio()"
   ]
  },
  {
   "cell_type": "code",
   "execution_count": 117,
   "metadata": {},
   "outputs": [
    {
     "data": {
      "text/html": [
       "<div>\n",
       "<style>\n",
       "    .dataframe thead tr:only-child th {\n",
       "        text-align: right;\n",
       "    }\n",
       "\n",
       "    .dataframe thead th {\n",
       "        text-align: left;\n",
       "    }\n",
       "\n",
       "    .dataframe tbody tr th {\n",
       "        vertical-align: top;\n",
       "    }\n",
       "</style>\n",
       "<table border=\"1\" class=\"dataframe\">\n",
       "  <thead>\n",
       "    <tr style=\"text-align: right;\">\n",
       "      <th></th>\n",
       "      <th>holdings</th>\n",
       "      <th>cash</th>\n",
       "      <th>total</th>\n",
       "      <th>returns</th>\n",
       "    </tr>\n",
       "    <tr>\n",
       "      <th>Date</th>\n",
       "      <th></th>\n",
       "      <th></th>\n",
       "      <th></th>\n",
       "      <th></th>\n",
       "    </tr>\n",
       "  </thead>\n",
       "  <tbody>\n",
       "    <tr>\n",
       "      <th>2017-08-14</th>\n",
       "      <td>15985.0006</td>\n",
       "      <td>92465.1428</td>\n",
       "      <td>108450.1434</td>\n",
       "      <td>0.002190</td>\n",
       "    </tr>\n",
       "    <tr>\n",
       "      <th>2017-08-15</th>\n",
       "      <td>16160.0006</td>\n",
       "      <td>92465.1428</td>\n",
       "      <td>108625.1434</td>\n",
       "      <td>0.001614</td>\n",
       "    </tr>\n",
       "    <tr>\n",
       "      <th>2017-08-16</th>\n",
       "      <td>16094.9997</td>\n",
       "      <td>92465.1428</td>\n",
       "      <td>108560.1425</td>\n",
       "      <td>-0.000598</td>\n",
       "    </tr>\n",
       "    <tr>\n",
       "      <th>2017-08-17</th>\n",
       "      <td>15786.0001</td>\n",
       "      <td>92465.1428</td>\n",
       "      <td>108251.1429</td>\n",
       "      <td>-0.002846</td>\n",
       "    </tr>\n",
       "    <tr>\n",
       "      <th>2017-08-18</th>\n",
       "      <td>15900.0107</td>\n",
       "      <td>92465.1428</td>\n",
       "      <td>108365.1535</td>\n",
       "      <td>0.001053</td>\n",
       "    </tr>\n",
       "  </tbody>\n",
       "</table>\n",
       "</div>"
      ],
      "text/plain": [
       "              holdings        cash        total   returns\n",
       "Date                                                     \n",
       "2017-08-14  15985.0006  92465.1428  108450.1434  0.002190\n",
       "2017-08-15  16160.0006  92465.1428  108625.1434  0.001614\n",
       "2017-08-16  16094.9997  92465.1428  108560.1425 -0.000598\n",
       "2017-08-17  15786.0001  92465.1428  108251.1429 -0.002846\n",
       "2017-08-18  15900.0107  92465.1428  108365.1535  0.001053"
      ]
     },
     "execution_count": 117,
     "metadata": {},
     "output_type": "execute_result"
    }
   ],
   "source": [
    "analysis.tail()"
   ]
  },
  {
   "cell_type": "code",
   "execution_count": 132,
   "metadata": {},
   "outputs": [
    {
     "data": {
      "text/plain": [
       "(98000, 110000)"
      ]
     },
     "execution_count": 132,
     "metadata": {},
     "output_type": "execute_result"
    },
    {
     "data": {
      "image/png": "[encoded data removed]",
      "text/plain": [
       "<matplotlib.figure.Figure at 0x25b9c796a20>"
      ]
     },
     "metadata": {},
     "output_type": "display_data"
    }
   ],
   "source": [
    "fig = plt.figure(figsize=(10,8))\n",
    "\n",
    "fig1= fig.add_subplot(111, ylabel='Portfolio Total')\n",
    "\n",
    "analysis['total'].plot(ax=fig1, lw=2)\n",
    "\n",
    "plt.title('Portfolio Equity Curve')\n",
    "\n",
    "fig1.plot(analysis.loc[signals.position == 1.0].index, analysis.total[signals.position == 1.0], '^', markersize=10, color='m')\n",
    "fig1.plot(analysis.loc[signals.position == -1.0].index, analysis.total[signals.position == -1.0], 'v', markersize=10, color='k')\n",
    "\n",
    "plt.ylim([98000,110000])"
   ]
  },
  {
   "cell_type": "code",
   "execution_count": null,
   "metadata": {
    "collapsed": true
   },
   "outputs": [],
   "source": []
  }
 ],
 "metadata": {
  "kernelspec": {
   "display_name": "Python 3",
   "language": "python",
   "name": "python3"
  },
  "language_info": {
   "codemirror_mode": {
    "name": "ipython",
    "version": 3
   },
   "file_extension": ".py",
   "mimetype": "text/x-python",
   "name": "python",
   "nbconvert_exporter": "python",
   "pygments_lexer": "ipython3",
   "version": "3.6.1"
  }
 },
 "nbformat": 4,
 "nbformat_minor": 2
}

{
 "cells": [
  {
   "cell_type": "markdown",
   "metadata": {},
   "source": [
    "# Practice Notebook\n",
    "\n",
    "### This is a notebook just for me to practice the strategies and concepts that I am learning through reading books and reading blog articles"
   ]
  },
  {
   "cell_type": "code",
   "execution_count": 2,
   "metadata": {},
   "outputs": [
    {
     "name": "stderr",
     "output_type": "stream",
     "text": [
      "C:\\ProgramData\\Anaconda3\\lib\\site-packages\\fix_yahoo_finance\\__init__.py:43: DeprecationWarning: \n",
      "    Auto-overriding of pandas_datareader's get_data_yahoo() is deprecated and will be removed in future versions.\n",
      "    Use pdr_override() to explicitly override it.\n",
      "  DeprecationWarning)\n"
     ]
    }
   ],
   "source": [
    "import numpy as np\n",
    "import pandas as pd\n",
    "import os, os.path\n",
    "import statsmodels.api as sm\n",
    "import matplotlib.pyplot as plt\n",
    "import pandas_datareader as pdr\n",
    "import fix_yahoo_finance as yf\n",
    "import datetime\n",
    "import statsmodels.api as sm\n",
    "\n",
    "\n",
    "yf.pdr_override()\n",
    "%matplotlib inline"
   ]
  },
  {
   "cell_type": "markdown",
   "metadata": {},
   "source": [
    "## Augmented Dickey-Fuller Test (ADF test)\n",
    "\n",
    "Purpose: To hypothesis test if a price series is mean reverting or not. If it is mean-reverting, then we can predict the price series' next move to a certain degree of confidence. If price level > mean, then it is moving downward; vice-versa for price level < mean. \n",
    "\n",
    "Hypothesis Test: Proportionality constant, lambda == 0. If it can be rejected, that means the next move in price series is dependent on current level, and is NOT a random walk.\n",
    "\n",
    "Test statistic: Lambda / Standard Error(Lambda). This HAS to be negative for a mean-reverting series. If positive, then it is not mean-reverting; instead, it is trending. We can utilize a p-value critical test in order to evaluate statistical significance and implement hypothesis testing.\n",
    "\n",
    "Other info: We will assume drift ~ 0 since actual fluctuations in price is much smaller in practical, rather than theoretical applications. In addition, we want to keep the calculation simple\n",
    "\n",
    "We are going to be using the USD.JPY currency exchange rate price series to implement the ADF test, and find out if it exhibits a mean-reverting price series."
   ]
  },
  {
   "cell_type": "code",
   "execution_count": 3,
   "metadata": {},
   "outputs": [
    {
     "data": {
      "text/html": [
       "<div>\n",
       "<style>\n",
       "    .dataframe thead tr:only-child th {\n",
       "        text-align: right;\n",
       "    }\n",
       "\n",
       "    .dataframe thead th {\n",
       "        text-align: left;\n",
       "    }\n",
       "\n",
       "    .dataframe tbody tr th {\n",
       "        vertical-align: top;\n",
       "    }\n",
       "</style>\n",
       "<table border=\"1\" class=\"dataframe\">\n",
       "  <thead>\n",
       "    <tr style=\"text-align: right;\">\n",
       "      <th></th>\n",
       "      <th>Open</th>\n",
       "      <th>High</th>\n",
       "      <th>Low</th>\n",
       "      <th>Close</th>\n",
       "      <th>Adj Close</th>\n",
       "      <th>Volume</th>\n",
       "    </tr>\n",
       "    <tr>\n",
       "      <th>Date</th>\n",
       "      <th></th>\n",
       "      <th></th>\n",
       "      <th></th>\n",
       "      <th></th>\n",
       "      <th></th>\n",
       "      <th></th>\n",
       "    </tr>\n",
       "  </thead>\n",
       "  <tbody>\n",
       "    <tr>\n",
       "      <th>2010-08-31</th>\n",
       "      <td>84.139999</td>\n",
       "      <td>84.658997</td>\n",
       "      <td>83.732002</td>\n",
       "      <td>84.139999</td>\n",
       "      <td>84.139999</td>\n",
       "      <td>0.0</td>\n",
       "    </tr>\n",
       "    <tr>\n",
       "      <th>2010-09-01</th>\n",
       "      <td>84.370003</td>\n",
       "      <td>84.550003</td>\n",
       "      <td>84.022003</td>\n",
       "      <td>84.406998</td>\n",
       "      <td>84.406998</td>\n",
       "      <td>0.0</td>\n",
       "    </tr>\n",
       "    <tr>\n",
       "      <th>2010-09-02</th>\n",
       "      <td>84.269997</td>\n",
       "      <td>85.192001</td>\n",
       "      <td>84.169998</td>\n",
       "      <td>84.250000</td>\n",
       "      <td>84.250000</td>\n",
       "      <td>0.0</td>\n",
       "    </tr>\n",
       "    <tr>\n",
       "      <th>2010-09-05</th>\n",
       "      <td>84.419998</td>\n",
       "      <td>84.482002</td>\n",
       "      <td>84.029999</td>\n",
       "      <td>84.430000</td>\n",
       "      <td>84.430000</td>\n",
       "      <td>0.0</td>\n",
       "    </tr>\n",
       "    <tr>\n",
       "      <th>2010-09-06</th>\n",
       "      <td>84.129997</td>\n",
       "      <td>84.251999</td>\n",
       "      <td>83.519997</td>\n",
       "      <td>84.120003</td>\n",
       "      <td>84.120003</td>\n",
       "      <td>0.0</td>\n",
       "    </tr>\n",
       "  </tbody>\n",
       "</table>\n",
       "</div>"
      ],
      "text/plain": [
       "                 Open       High        Low      Close  Adj Close  Volume\n",
       "Date                                                                     \n",
       "2010-08-31  84.139999  84.658997  83.732002  84.139999  84.139999     0.0\n",
       "2010-09-01  84.370003  84.550003  84.022003  84.406998  84.406998     0.0\n",
       "2010-09-02  84.269997  85.192001  84.169998  84.250000  84.250000     0.0\n",
       "2010-09-05  84.419998  84.482002  84.029999  84.430000  84.430000     0.0\n",
       "2010-09-06  84.129997  84.251999  83.519997  84.120003  84.120003     0.0"
      ]
     },
     "execution_count": 3,
     "metadata": {},
     "output_type": "execute_result"
    }
   ],
   "source": [
    "#Pull data from yahoo finance\n",
    "symbol = 'JPY=X'\n",
    "start = datetime.datetime(2010, 9, 1)\n",
    "end = datetime.datetime(2017, 9, 1)\n",
    "jpy_exchange_rate = pdr.get_data_yahoo(symbol, start, end)\n",
    "jpy_exchange_rate.head()"
   ]
  },
  {
   "cell_type": "code",
   "execution_count": 10,
   "metadata": {},
   "outputs": [
    {
     "data": {
      "text/plain": [
       "(-1.00708018379616,\n",
       " 0.7506732152030301,\n",
       " 6,\n",
       " 1817,\n",
       " {'1%': -3.4339540519343137,\n",
       "  '10%': -2.5676175211639354,\n",
       "  '5%': -2.8631319880806281},\n",
       " 3382.587173599476)"
      ]
     },
     "execution_count": 10,
     "metadata": {},
     "output_type": "execute_result"
    }
   ],
   "source": [
    "from statsmodels.tsa.stattools import adfuller\n",
    "\n",
    "#drop NaN values to avoid messing up the calculations in the test\n",
    "jpy_exchange_rate.dropna(inplace=True)\n",
    "result = adfuller(jpy_exchange_rate['Adj Close'])\n",
    "result"
   ]
  },
  {
   "cell_type": "markdown",
   "metadata": {},
   "source": [
    "The result, which is a t-score of about -1.0, cannot reject the null hypothesis (that lambda == 0) at 90% confidence. Consequently, we cannot prove (via ADF test) that the exchange rate is NOT a geometric random walk. However, we can at least reassure that it is not a trending strategy, since lambda is not positive."
   ]
  },
  {
   "cell_type": "markdown",
   "metadata": {},
   "source": [
    "## Calculating the Hurst Exponent\n",
    "\n",
    "By calculating the Hurst Exponent, via the formula for measuring the speed of diffusion, we can find out whether or not a series is stationary or non-stationary. The null hypothesis for the Hurst exponent (0 < H < 1), is H == 0.5, which indicates a Geomtric Brownian Motion. If H < 0.5, the series is more mean-reverting and more likely to be stationary. On the other hand, if H > 0.5, then the series is more trending and more likely to be non-stationary. The closer H is to 1, the more strongly trending it is; likewise, the closer H is to 0, the more strongly mean-reverting the series is.\n",
    "\n",
    "autocorrelation: The correlation between two different versions of the same time series - once in its normal form, and another that is a lagged version of the time series"
   ]
  },
  {
   "cell_type": "code",
   "execution_count": 21,
   "metadata": {},
   "outputs": [
    {
     "name": "stdout",
     "output_type": "stream",
     "text": [
      "0.505024502023\n",
      "-0.000154920578908\n",
      "0.954821520778\n",
      "0.546462512592\n"
     ]
    }
   ],
   "source": [
    "from numpy import cumsum, log, polyfit, sqrt, std, subtract\n",
    "from numpy.random import randn\n",
    "\n",
    "#source code: https://www.quantstart.com/articles/Basics-of-Statistical-Mean-Reversion-Testing\n",
    "def hurst(ts):\n",
    "    \"\"\"Returns the Hurst Exponent of the time series vector ts\"\"\"\n",
    "    # Create the range of lag values\n",
    "    lags = range(2, 100)\n",
    "\n",
    "    # Calculate the array of the variances of the lagged differences\n",
    "    tau = [sqrt(std(subtract(ts[lag:], ts[:-lag]))) for lag in lags]\n",
    "\n",
    "    # Use a linear fit to estimate the Hurst Exponent\n",
    "    poly = polyfit(log(lags), log(tau), 1)\n",
    "\n",
    "    # Return the Hurst exponent from the polyfit output\n",
    "    return poly[0]*2.0\n",
    "\n",
    "# Create a Gometric Brownian Motion, Mean-Reverting and Trending Series\n",
    "gbm = log(cumsum(randn(100000))+1000)\n",
    "mr = log(randn(100000)+1000)\n",
    "tr = log(cumsum(randn(100000)+1)+1000)\n",
    "\n",
    "# Output the Hurst Exponent for each of the above series\n",
    "# and the price of Google (the Adjusted Close price) for \n",
    "# the ADF test given above in the article. Testing the hurst function\n",
    "print(hurst(gbm))\n",
    "print(hurst(mr))\n",
    "print(hurst(tr))\n",
    "# Assuming you have run the above code to obtain 'goog'!\n",
    "print(hurst(jpy_exchange_rate['Adj Close']))"
   ]
  },
  {
   "cell_type": "markdown",
   "metadata": {},
   "source": [
    "Here, we can see that the Hurst Exponent obtained for the USD.JPY currency exchange rate is approximately 0.55. In other words, the Hurst Exponent is telling us that the USD.JPY series is slightly trending."
   ]
  }
 ],
 "metadata": {
  "kernelspec": {
   "display_name": "Python 3",
   "language": "python",
   "name": "python3"
  },
  "language_info": {
   "codemirror_mode": {
    "name": "ipython",
    "version": 3
   },
   "file_extension": ".py",
   "mimetype": "text/x-python",
   "name": "python",
   "nbconvert_exporter": "python",
   "pygments_lexer": "ipython3",
   "version": "3.6.1"
  }
 },
 "nbformat": 4,
 "nbformat_minor": 2
}

{
 "cells": [
  {
   "cell_type": "code",
   "execution_count": 94,
   "metadata": {
    "collapsed": true
   },
   "outputs": [],
   "source": [
    "import pandas as pd\n",
    "import numpy as np\n",
    "import itertools\n",
    "from collections import defaultdict"
   ]
  },
  {
   "cell_type": "code",
   "execution_count": 95,
   "metadata": {},
   "outputs": [
    {
     "data": {
      "text/html": [
       "<div>\n",
       "<style>\n",
       "    .dataframe thead tr:only-child th {\n",
       "        text-align: right;\n",
       "    }\n",
       "\n",
       "    .dataframe thead th {\n",
       "        text-align: left;\n",
       "    }\n",
       "\n",
       "    .dataframe tbody tr th {\n",
       "        vertical-align: top;\n",
       "    }\n",
       "</style>\n",
       "<table border=\"1\" class=\"dataframe\">\n",
       "  <thead>\n",
       "    <tr style=\"text-align: right;\">\n",
       "      <th></th>\n",
       "      <th>Transaction</th>\n",
       "    </tr>\n",
       "  </thead>\n",
       "  <tbody>\n",
       "    <tr>\n",
       "      <th>0</th>\n",
       "      <td>A B C</td>\n",
       "    </tr>\n",
       "    <tr>\n",
       "      <th>1</th>\n",
       "      <td>B C E</td>\n",
       "    </tr>\n",
       "    <tr>\n",
       "      <th>2</th>\n",
       "      <td>A B G</td>\n",
       "    </tr>\n",
       "    <tr>\n",
       "      <th>3</th>\n",
       "      <td>A C D E F</td>\n",
       "    </tr>\n",
       "    <tr>\n",
       "      <th>4</th>\n",
       "      <td>B C D</td>\n",
       "    </tr>\n",
       "  </tbody>\n",
       "</table>\n",
       "</div>"
      ],
      "text/plain": [
       "  Transaction\n",
       "0       A B C\n",
       "1       B C E\n",
       "2       A B G\n",
       "3   A C D E F\n",
       "4       B C D"
      ]
     },
     "execution_count": 95,
     "metadata": {},
     "output_type": "execute_result"
    }
   ],
   "source": [
    "path = r'C:\\Users\\nkad1\\Desktop\\CS 412 Assignments\\Assignment 2\\hw2data\\Q3data.csv'\n",
    "df = pd.read_csv(path, names=['Transaction'])\n",
    "df.head()"
   ]
  },
  {
   "cell_type": "code",
   "execution_count": 96,
   "metadata": {
    "collapsed": true
   },
   "outputs": [],
   "source": [
    "df['1'], df['2'], df['3'], df['4'], df['5'], df['6'] = df['Transaction'].str.split(' ', 5).str\n",
    "del df['Transaction']"
   ]
  },
  {
   "cell_type": "code",
   "execution_count": 97,
   "metadata": {},
   "outputs": [
    {
     "data": {
      "text/html": [
       "<div>\n",
       "<style>\n",
       "    .dataframe thead tr:only-child th {\n",
       "        text-align: right;\n",
       "    }\n",
       "\n",
       "    .dataframe thead th {\n",
       "        text-align: left;\n",
       "    }\n",
       "\n",
       "    .dataframe tbody tr th {\n",
       "        vertical-align: top;\n",
       "    }\n",
       "</style>\n",
       "<table border=\"1\" class=\"dataframe\">\n",
       "  <thead>\n",
       "    <tr style=\"text-align: right;\">\n",
       "      <th></th>\n",
       "      <th>1</th>\n",
       "      <th>2</th>\n",
       "      <th>3</th>\n",
       "      <th>4</th>\n",
       "      <th>5</th>\n",
       "      <th>6</th>\n",
       "    </tr>\n",
       "  </thead>\n",
       "  <tbody>\n",
       "    <tr>\n",
       "      <th>0</th>\n",
       "      <td>A</td>\n",
       "      <td>B</td>\n",
       "      <td>C</td>\n",
       "      <td>NaN</td>\n",
       "      <td>NaN</td>\n",
       "      <td>NaN</td>\n",
       "    </tr>\n",
       "    <tr>\n",
       "      <th>1</th>\n",
       "      <td>B</td>\n",
       "      <td>C</td>\n",
       "      <td>E</td>\n",
       "      <td>NaN</td>\n",
       "      <td>NaN</td>\n",
       "      <td>NaN</td>\n",
       "    </tr>\n",
       "    <tr>\n",
       "      <th>2</th>\n",
       "      <td>A</td>\n",
       "      <td>B</td>\n",
       "      <td>G</td>\n",
       "      <td>NaN</td>\n",
       "      <td>NaN</td>\n",
       "      <td>NaN</td>\n",
       "    </tr>\n",
       "    <tr>\n",
       "      <th>3</th>\n",
       "      <td>A</td>\n",
       "      <td>C</td>\n",
       "      <td>D</td>\n",
       "      <td>E</td>\n",
       "      <td>F</td>\n",
       "      <td>NaN</td>\n",
       "    </tr>\n",
       "    <tr>\n",
       "      <th>4</th>\n",
       "      <td>B</td>\n",
       "      <td>C</td>\n",
       "      <td>D</td>\n",
       "      <td>NaN</td>\n",
       "      <td>NaN</td>\n",
       "      <td>NaN</td>\n",
       "    </tr>\n",
       "  </tbody>\n",
       "</table>\n",
       "</div>"
      ],
      "text/plain": [
       "   1  2  3    4    5    6\n",
       "0  A  B  C  NaN  NaN  NaN\n",
       "1  B  C  E  NaN  NaN  NaN\n",
       "2  A  B  G  NaN  NaN  NaN\n",
       "3  A  C  D    E    F  NaN\n",
       "4  B  C  D  NaN  NaN  NaN"
      ]
     },
     "execution_count": 97,
     "metadata": {},
     "output_type": "execute_result"
    }
   ],
   "source": [
    "df.head()"
   ]
  },
  {
   "cell_type": "markdown",
   "metadata": {},
   "source": [
    "## Question 3A1/3A2\n",
    "\n",
    "Calculate the number of frequent patterns in the data-set, with minimum support of 20 (or 20%). Can be done with a function (like I did), or can just calculate frequency of the 1-item sets, and then calculate probabilities of unions...."
   ]
  },
  {
   "cell_type": "code",
   "execution_count": 98,
   "metadata": {
    "collapsed": true
   },
   "outputs": [],
   "source": [
    "def get_frequency_of_value_list(value_list=[]):\n",
    "    filtered = df[df.isin(value_list)].dropna(how='all')\n",
    "    return len(A_filtered)"
   ]
  },
  {
   "cell_type": "code",
   "execution_count": 99,
   "metadata": {
    "collapsed": true
   },
   "outputs": [],
   "source": [
    "item_set = ['A','B','C','D','E','F','G']\n",
    "freq_count = 0\n",
    "freq_dict = defaultdict(int)\n",
    "min_support = 0.20"
   ]
  },
  {
   "cell_type": "code",
   "execution_count": 100,
   "metadata": {},
   "outputs": [
    {
     "data": {
      "text/plain": [
       "'c = list(itertools.combinations(item_set, 3))\\n\\nfor item in c:\\n    count = 0\\n    for i in range(0,100):\\n        if set(item).issubset(df.iloc[i]):\\n            count += 1\\n        \\n    support = count / len(df)\\n    if support >= min_support:\\n        freq_dict[item] += count\\n        freq_count += 1'"
      ]
     },
     "execution_count": 100,
     "metadata": {},
     "output_type": "execute_result"
    }
   ],
   "source": [
    "'''c = list(itertools.combinations(item_set, 3))\n",
    "\n",
    "for item in c:\n",
    "    count = 0\n",
    "    for i in range(0,100):\n",
    "        if set(item).issubset(df.iloc[i]):\n",
    "            count += 1\n",
    "        \n",
    "    support = count / len(df)\n",
    "    if support >= min_support:\n",
    "        freq_dict[item] += count\n",
    "        freq_count += 1'''"
   ]
  },
  {
   "cell_type": "code",
   "execution_count": 103,
   "metadata": {},
   "outputs": [],
   "source": [
    "def find_frequent_sets(freq_dictionary = defaultdict(int), min_support = 0, item_set = ['A','B','C','D','E','F','G'], \n",
    "                       min_length = 0, max_length = 1):\n",
    "    freq_count = 0\n",
    "    #For each length itemset (1 to 6 letters long)\n",
    "    for length in range(min_length, max_length):\n",
    "        #Make a list of all combinations of possible items, for n length\n",
    "        n_length_item_set = list(itertools.combinations(item_set, length))\n",
    "        for item in n_length_item_set:\n",
    "            count = 0\n",
    "            #If the current itemlist is a subset of the DataFrame row, increment count since it exists.\n",
    "            for i in range(0,100):\n",
    "                if set(item).issubset(df.iloc[i]):\n",
    "                    count += 1\n",
    "            \n",
    "            #If the count meets the minimum threshold, add it to dictionary as a frequent pattern.\n",
    "            support = count / len(df)\n",
    "            if support >= min_support:\n",
    "                freq_dictionary[item] += count\n",
    "                freq_count += 1\n",
    "    return freq_count"
   ]
  },
  {
   "cell_type": "code",
   "execution_count": 104,
   "metadata": {},
   "outputs": [
    {
     "name": "stdout",
     "output_type": "stream",
     "text": [
      "30\n",
      "defaultdict(<class 'int'>, {('A',): 64, ('B',): 54, ('C',): 83, ('D',): 28, ('E',): 66, ('F',): 29, ('G',): 34, ('A', 'B'): 37, ('A', 'C'): 52, ('A', 'E'): 44, ('A', 'F'): 20, ('A', 'G'): 22, ('B', 'C'): 47, ('B', 'E'): 34, ('B', 'G'): 21, ('C', 'D'): 23, ('C', 'E'): 56, ('C', 'F'): 28, ('C', 'G'): 32, ('E', 'F'): 25, ('E', 'G'): 22, ('A', 'B', 'C'): 31, ('A', 'B', 'E'): 24, ('A', 'C', 'E'): 38, ('A', 'C', 'G'): 20, ('B', 'C', 'E'): 32, ('B', 'C', 'G'): 20, ('C', 'E', 'F'): 25, ('C', 'E', 'G'): 21, ('A', 'B', 'C', 'E'): 23})\n",
      "8\n",
      "defaultdict(<class 'int'>, {('A', 'B', 'C'): 31, ('A', 'B', 'E'): 24, ('A', 'C', 'E'): 38, ('A', 'C', 'G'): 20, ('B', 'C', 'E'): 32, ('B', 'C', 'G'): 20, ('C', 'E', 'F'): 25, ('C', 'E', 'G'): 21})\n"
     ]
    }
   ],
   "source": [
    "freq_count = find_frequent_sets(freq_dict, 0.20, item_set, 1, 6)\n",
    "print(freq_count)\n",
    "print(freq_dict)\n",
    "\n",
    "freq_dict_3_length = defaultdict(int)\n",
    "freq_count_3_length = find_frequent_sets(freq_dict_3_length, 0.20, item_set, 3, 4)\n",
    "print(freq_count_3_length)\n",
    "print(freq_dict_3_length)"
   ]
  },
  {
   "cell_type": "markdown",
   "metadata": {},
   "source": [
    "## Question 3B1/3B2"
   ]
  },
  {
   "cell_type": "code",
   "execution_count": 105,
   "metadata": {},
   "outputs": [
    {
     "name": "stdout",
     "output_type": "stream",
     "text": [
      "30\n",
      "defaultdict(<class 'int'>, {('A',): 64, ('B',): 54, ('C',): 83, ('D',): 28, ('E',): 66, ('F',): 29, ('G',): 34, ('A', 'B'): 37, ('A', 'C'): 52, ('A', 'D'): 16, ('A', 'E'): 44, ('A', 'F'): 20, ('A', 'G'): 22, ('B', 'C'): 47, ('B', 'D'): 14, ('B', 'E'): 34, ('B', 'F'): 15, ('B', 'G'): 21, ('C', 'D'): 23, ('C', 'E'): 56, ('C', 'F'): 28, ('C', 'G'): 32, ('D', 'E'): 19, ('E', 'F'): 25, ('E', 'G'): 22, ('A', 'B', 'C'): 31, ('A', 'B', 'E'): 24, ('A', 'B', 'F'): 11, ('A', 'B', 'G'): 14, ('A', 'C', 'D'): 14, ('A', 'C', 'E'): 38, ('A', 'C', 'F'): 19, ('A', 'C', 'G'): 20, ('A', 'D', 'E'): 13, ('A', 'E', 'F'): 17, ('A', 'E', 'G'): 17, ('B', 'C', 'D'): 12, ('B', 'C', 'E'): 32, ('B', 'C', 'F'): 14, ('B', 'C', 'G'): 20, ('B', 'E', 'F'): 13, ('B', 'E', 'G'): 11, ('C', 'D', 'E'): 16, ('C', 'E', 'F'): 25, ('C', 'E', 'G'): 21, ('A', 'B', 'C', 'E'): 23, ('A', 'B', 'C', 'F'): 10, ('A', 'B', 'C', 'G'): 13, ('A', 'B', 'E', 'G'): 10, ('A', 'C', 'D', 'E'): 12, ('A', 'C', 'E', 'F'): 17, ('A', 'C', 'E', 'G'): 16, ('B', 'C', 'E', 'F'): 13, ('B', 'C', 'E', 'G'): 11, ('A', 'B', 'C', 'E', 'G'): 10})\n",
      "20\n",
      "defaultdict(<class 'int'>, {('A', 'B', 'C'): 31, ('A', 'B', 'E'): 24, ('A', 'B', 'F'): 11, ('A', 'B', 'G'): 14, ('A', 'C', 'D'): 14, ('A', 'C', 'E'): 38, ('A', 'C', 'F'): 19, ('A', 'C', 'G'): 20, ('A', 'D', 'E'): 13, ('A', 'E', 'F'): 17, ('A', 'E', 'G'): 17, ('B', 'C', 'D'): 12, ('B', 'C', 'E'): 32, ('B', 'C', 'F'): 14, ('B', 'C', 'G'): 20, ('B', 'E', 'F'): 13, ('B', 'E', 'G'): 11, ('C', 'D', 'E'): 16, ('C', 'E', 'F'): 25, ('C', 'E', 'G'): 21})\n"
     ]
    }
   ],
   "source": [
    "freq_dict_b = defaultdict(int)\n",
    "freq_count_b = find_frequent_sets(freq_dict_b, 0.10, item_set, 1, 6)\n",
    "print(freq_count_b)\n",
    "print(freq_dict_b)\n",
    "\n",
    "freq_dict_b_3_length = defaultdict(int)\n",
    "freq_count_b_3_length = find_frequent_sets(freq_dict_b_3_length, 0.10, item_set, 3, 4)\n",
    "print(freq_count_b_3_length)\n",
    "print(freq_dict_b_3_length)"
   ]
  },
  {
   "cell_type": "markdown",
   "metadata": {},
   "source": [
    "## Question 3A3/3B3"
   ]
  },
  {
   "cell_type": "code",
   "execution_count": 148,
   "metadata": {},
   "outputs": [],
   "source": [
    "newlist = freq_dict.items()\n",
    "sortedlist = sorted(newlist, key=lambda s: len(s[0]), reverse=True)"
   ]
  },
  {
   "cell_type": "code",
   "execution_count": 147,
   "metadata": {},
   "outputs": [
    {
     "name": "stdout",
     "output_type": "stream",
     "text": [
      "7\n"
     ]
    }
   ],
   "source": [
    "#for item_set in sortedlist, 3A3\n",
    "sortedlist2 = sortedlist[:]\n",
    "for item in sortedlist:\n",
    "    for i in range(1, len(sortedlist)):\n",
    "        if set(sortedlist[i][0]).issubset(item[0]) and sortedlist[i][0] != item[0]:\n",
    "            if sortedlist[i] in sortedlist2:\n",
    "                sortedlist2.remove(sortedlist[i])\n",
    "print(len(sortedlist2))"
   ]
  },
  {
   "cell_type": "code",
   "execution_count": 153,
   "metadata": {
    "collapsed": true
   },
   "outputs": [],
   "source": [
    "#for item_sets in sortedlist, 3B3\n",
    "second_list = freq_dict_b.items()\n",
    "second_sort = sorted(second_list, key=lambda s: len(s[0]), reverse=True)"
   ]
  },
  {
   "cell_type": "code",
   "execution_count": 154,
   "metadata": {},
   "outputs": [
    {
     "name": "stdout",
     "output_type": "stream",
     "text": [
      "6\n"
     ]
    }
   ],
   "source": [
    "second_sort2 = second_sort[:]\n",
    "for item in second_sort:\n",
    "    for i in range(1, len(second_sort)):\n",
    "        if set(second_sort[i][0]).issubset(item[0]) and second_sort[i][0] != item[0]:\n",
    "            if second_sort[i] in second_sort2:\n",
    "                second_sort2.remove(second_sort[i])\n",
    "print(len(second_sort2))"
   ]
  },
  {
   "cell_type": "code",
   "execution_count": 155,
   "metadata": {},
   "outputs": [
    {
     "name": "stdout",
     "output_type": "stream",
     "text": [
      "[(('A', 'B', 'C', 'E', 'G'), 10), (('A', 'B', 'C', 'F'), 10), (('A', 'C', 'D', 'E'), 12), (('A', 'C', 'E', 'F'), 17), (('B', 'C', 'E', 'F'), 13), (('B', 'C', 'D'), 12)]\n",
      "[(('A', 'B', 'C', 'E'), 23), (('A', 'C', 'G'), 20), (('B', 'C', 'G'), 20), (('C', 'E', 'F'), 25), (('C', 'E', 'G'), 21), (('A', 'F'), 20), (('C', 'D'), 23)]\n"
     ]
    }
   ],
   "source": [
    "print(second_sort2)\n",
    "print(sortedlist2)"
   ]
  },
  {
   "cell_type": "markdown",
   "metadata": {},
   "source": [
    "## Questions 3B4/3B5"
   ]
  },
  {
   "cell_type": "code",
   "execution_count": 168,
   "metadata": {},
   "outputs": [
    {
     "name": "stdout",
     "output_type": "stream",
     "text": [
      "56\n",
      "38\n",
      "64\n",
      "The confidence measure for 3B4 is 0.6785714285714286, and the confidence measure for 3B5 is 0.7419354838709677\n"
     ]
    }
   ],
   "source": [
    "print(freq_dict_b['C','E'])\n",
    "print(freq_dict_b['A','C','E'])\n",
    "print(freq_dict_b['A', ])\n",
    "\n",
    "confidence_measure1 = freq_dict_b['A','C','E'] / freq_dict_b['C','E']\n",
    "confidence_measure2 = freq_dict_b['A','B','C','E'] / freq_dict_b['A','B','C']\n",
    "print(\"The confidence measure for 3B4 is {}, and the confidence measure for 3B5 is {}\".format(confidence_measure1, confidence_measure2))"
   ]
  }
 ],
 "metadata": {
  "kernelspec": {
   "display_name": "Python 3",
   "language": "python",
   "name": "python3"
  },
  "language_info": {
   "codemirror_mode": {
    "name": "ipython",
    "version": 3
   },
   "file_extension": ".py",
   "mimetype": "text/x-python",
   "name": "python",
   "nbconvert_exporter": "python",
   "pygments_lexer": "ipython3",
   "version": "3.6.1"
  }
 },
 "nbformat": 4,
 "nbformat_minor": 2
}
